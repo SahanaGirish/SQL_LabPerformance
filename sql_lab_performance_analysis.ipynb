{
 "cells": [
  {
   "cell_type": "markdown",
   "id": "6e7d6a49",
   "metadata": {},
   "source": [
    "# Lab Operations SQL Analysis\n",
    "This notebook demonstrates SQL-based analysis using window functions and CTEs on synthetic lab performance data."
   ]
  },
  {
   "cell_type": "code",
   "execution_count": null,
   "id": "9a2209b1",
   "metadata": {},
   "outputs": [],
   "source": [
    "import sqlite3\n",
    "import pandas as pd\n",
    "\n",
    "# Connect to the SQLite database\n",
    "conn = sqlite3.connect(\"lab_operations.db\")\n"
   ]
  },
  {
   "cell_type": "code",
   "execution_count": null,
   "id": "81bfc9f1",
   "metadata": {},
   "outputs": [],
   "source": [
    "# Show schema\n",
    "pd.read_sql(\"PRAGMA table_info(lab_operations);\", conn)"
   ]
  },
  {
   "cell_type": "code",
   "execution_count": null,
   "id": "f9f045bd",
   "metadata": {},
   "outputs": [],
   "source": [
    "# Preview the data\n",
    "pd.read_sql(\"SELECT * FROM lab_operations LIMIT 5;\", conn)"
   ]
  },
  {
   "cell_type": "code",
   "execution_count": null,
   "id": "e9bb728c",
   "metadata": {},
   "outputs": [],
   "source": [
    "\n",
    "query = '''\n",
    "SELECT \n",
    "    patient_id, test_type, duration_mins,\n",
    "    RANK() OVER (PARTITION BY test_type ORDER BY duration_mins DESC) AS duration_rank\n",
    "FROM lab_operations\n",
    "LIMIT 10;\n",
    "'''\n",
    "pd.read_sql(query, conn)\n"
   ]
  },
  {
   "cell_type": "code",
   "execution_count": null,
   "id": "34fc7d6e",
   "metadata": {},
   "outputs": [],
   "source": [
    "\n",
    "query = '''\n",
    "WITH long_tests AS (\n",
    "    SELECT * FROM lab_operations WHERE duration_mins > 120\n",
    ")\n",
    "SELECT test_type, COUNT(*) AS count_long_tests\n",
    "FROM long_tests\n",
    "GROUP BY test_type;\n",
    "'''\n",
    "pd.read_sql(query, conn)\n"
   ]
  }
 ],
 "metadata": {},
 "nbformat": 4,
 "nbformat_minor": 5
}